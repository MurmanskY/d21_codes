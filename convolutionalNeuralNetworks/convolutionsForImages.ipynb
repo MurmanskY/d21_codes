{
 "cells": [
  {
   "cell_type": "markdown",
   "metadata": {},
   "source": []
  },
  {
   "cell_type": "markdown",
   "metadata": {},
   "source": [
    "# 图像卷积\n",
    "\n",
    "## 1. 互相关运算（cross-correlation）\n",
    "\n",
    "在卷积层中，输入张量和核张量通过互相关运算产生输出张量\n",
    "\n",
    "$$(n_h - k_h + 1) \\times (n_w - k_w + 1)$$\n",
    "\n",
    "我们可以通过在图像边界周围填充零来保证有足够的空间移动卷积核，从而保持输出大小不变。"
   ]
  },
  {
   "cell_type": "code",
   "execution_count": 1,
   "metadata": {},
   "outputs": [],
   "source": [
    "import torch\n",
    "from torch import nn\n",
    "from d2l import torch as d2l\n",
    "\n",
    "\n",
    "def corr2d(X, K):\n",
    "    '''计算二维互相关运算'''\n",
    "    h, w = K.shape\n",
    "    Y = torch.zeros((X.shape[0] - h + 1, X.shape[1] - w + 1))\n",
    "    for i in range(Y.shape[0]):\n",
    "        for j in range(Y.shape[1]):\n",
    "            Y[i, j] = (X[i: i + h, j:j + w] * K).sum()\n",
    "    return Y  "
   ]
  },
  {
   "cell_type": "code",
   "execution_count": 7,
   "metadata": {},
   "outputs": [
    {
     "data": {
      "text/plain": [
       "tensor([[19., 25.],\n",
       "        [37., 43.]])"
      ]
     },
     "execution_count": 7,
     "metadata": {},
     "output_type": "execute_result"
    }
   ],
   "source": [
    "'''验证函数'''\n",
    "X = torch.arange(9).reshape(3, 3)\n",
    "Y = torch.arange(4).reshape(2, 2)\n",
    "corr2d(X, Y)"
   ]
  },
  {
   "cell_type": "markdown",
   "metadata": {},
   "source": [
    "## 2. 卷积层\n",
    "\n",
    "对互相关运算的结果，添加标量偏置之后产生输出。\n",
    "\n",
    "因此卷积层中的两个被训练的参数是卷积核权重和标量偏置。在训练前也需要随机初始化卷积核权重"
   ]
  },
  {
   "cell_type": "code",
   "execution_count": 8,
   "metadata": {},
   "outputs": [],
   "source": [
    "class Conv2D(nn.Module):\n",
    "    def __init__(self, kernal_size):\n",
    "        super().__init__()\n",
    "        self.weight = nn.Parameter(torch.rand(kernal_size))\n",
    "        self.bias = nn.Parameter(torch.zeros(1))\n",
    "    \n",
    "    def forward(self, X):\n",
    "        return corr2d(X, self.weight) + self.bias"
   ]
  },
  {
   "cell_type": "markdown",
   "metadata": {},
   "source": [
    "## 3. 图像中目标的边缘检测\n",
    "\n",
    "以下是卷积层的一个简单应用，通过找到像素变化的位置，检测图形中不同颜色的边缘"
   ]
  },
  {
   "cell_type": "code",
   "execution_count": 9,
   "metadata": {},
   "outputs": [
    {
     "data": {
      "text/plain": [
       "tensor([[1., 1., 0., 0., 0., 0., 1., 1.],\n",
       "        [1., 1., 0., 0., 0., 0., 1., 1.],\n",
       "        [1., 1., 0., 0., 0., 0., 1., 1.],\n",
       "        [1., 1., 0., 0., 0., 0., 1., 1.],\n",
       "        [1., 1., 0., 0., 0., 0., 1., 1.],\n",
       "        [1., 1., 0., 0., 0., 0., 1., 1.]])"
      ]
     },
     "execution_count": 9,
     "metadata": {},
     "output_type": "execute_result"
    }
   ],
   "source": [
    "'''构建一个6*8像素的黑白图像，中间四列为黑色(0)，其余像素为白色(1)'''\n",
    "X = torch.ones((6, 8))\n",
    "X[:, 2: 6] = 0\n",
    "X"
   ]
  },
  {
   "cell_type": "code",
   "execution_count": 13,
   "metadata": {},
   "outputs": [],
   "source": [
    "'''接下来构建一个高度为1，宽度为2的卷积核K，进行互相关运算时，水平相邻的两元素相同，输出为0，否则为非0'''\n",
    "K = torch.tensor([1.0, -1.0], dtype=torch.float32).reshape(1, 2)"
   ]
  },
  {
   "cell_type": "code",
   "execution_count": 16,
   "metadata": {},
   "outputs": [
    {
     "data": {
      "text/plain": [
       "tensor([[ 0.,  1.,  0.,  0.,  0., -1.,  0.],\n",
       "        [ 0.,  1.,  0.,  0.,  0., -1.,  0.],\n",
       "        [ 0.,  1.,  0.,  0.,  0., -1.,  0.],\n",
       "        [ 0.,  1.,  0.,  0.,  0., -1.,  0.],\n",
       "        [ 0.,  1.,  0.,  0.,  0., -1.,  0.],\n",
       "        [ 0.,  1.,  0.,  0.,  0., -1.,  0.]])"
      ]
     },
     "execution_count": 16,
     "metadata": {},
     "output_type": "execute_result"
    }
   ],
   "source": [
    "'''1表示白色到黑色的边缘\n",
    "-1表示从黑色到白色的边缘\n",
    "其他情况的输出为0\n",
    "'''\n",
    "Y = corr2d(X, K)\n",
    "Y"
   ]
  },
  {
   "cell_type": "code",
   "execution_count": 17,
   "metadata": {},
   "outputs": [
    {
     "data": {
      "text/plain": [
       "tensor([[0., 0., 0., 0., 0.],\n",
       "        [0., 0., 0., 0., 0.],\n",
       "        [0., 0., 0., 0., 0.],\n",
       "        [0., 0., 0., 0., 0.],\n",
       "        [0., 0., 0., 0., 0.],\n",
       "        [0., 0., 0., 0., 0.],\n",
       "        [0., 0., 0., 0., 0.],\n",
       "        [0., 0., 0., 0., 0.]])"
      ]
     },
     "execution_count": 17,
     "metadata": {},
     "output_type": "execute_result"
    }
   ],
   "source": [
    "'''将图像转置，在进行互相关运算\n",
    "之前检测到的垂直边缘消失了\n",
    "这个卷积核K值可以检测到  垂直  边缘，无法检测  水平  边缘\n",
    "'''\n",
    "corr2d(X.t(), K)"
   ]
  },
  {
   "cell_type": "markdown",
   "metadata": {},
   "source": [
    "## 4. 学习卷积核\n",
    "\n",
    "对于更复杂数值的卷积核，或者连续的卷积层时，我们不可能手动设计滤波器。那么我们是否可以学习由X生成Y的卷积核？\n",
    "\n",
    "我们先构造一个卷积层，然后将其卷积核初始化为随机张量。截下来在每次迭代中，比较Y与卷积层输出的平方误差，然后计算梯度来更新卷积核。为了简单期间，再次使用内置的二维卷积层，并忽略偏置"
   ]
  },
  {
   "cell_type": "code",
   "execution_count": 33,
   "metadata": {},
   "outputs": [
    {
     "name": "stdout",
     "output_type": "stream",
     "text": [
      "epoch 2, loss 6.329\n",
      "epoch 4, loss 1.388\n",
      "epoch 6, loss 0.366\n",
      "epoch 8, loss 0.116\n",
      "epoch 10, loss 0.042\n"
     ]
    }
   ],
   "source": [
    "# 构造一个二维卷积层，具有一个输出通道核形状为（1，2）的卷积核\n",
    "conv2d = nn.Conv2d(1, 1, kernel_size = (1, 2), bias=False)\n",
    "\n",
    "# 这个二维卷积层使用四维输入和输出格式（批量大小、通道、高度、宽度）\n",
    "# 其中批量大小和通道数都维1\n",
    "X = X.reshape((1, 1, 6, 8))\n",
    "Y = Y.reshape((1, 1, 6, 7))\n",
    "lr = 3e-2 # 学习率\n",
    "\n",
    "for i in range(10):\n",
    "    Y_hat = conv2d(X)\n",
    "    l = (Y_hat - Y) ** 2\n",
    "    conv2d.zero_grad()\n",
    "    l.sum().backward()\n",
    "    # 迭代卷积核\n",
    "    conv2d.weight.data[:] -= lr * conv2d.weight.grad\n",
    "    if (i+1) % 2 == 0:\n",
    "        print(f'epoch {i+1}, loss {l.sum():.3f}')"
   ]
  },
  {
   "cell_type": "code",
   "execution_count": 34,
   "metadata": {},
   "outputs": [
    {
     "data": {
      "text/plain": [
       "tensor([[[[ 1.0085, -0.9683]]]])"
      ]
     },
     "execution_count": 34,
     "metadata": {},
     "output_type": "execute_result"
    }
   ],
   "source": [
    "'''在10次迭代之后，误差已经降到足够低。\n",
    "查看我们所学的卷积核的权重张量\n",
    "'''\n",
    "conv2d.weight.data"
   ]
  }
 ],
 "metadata": {
  "kernelspec": {
   "display_name": "d2l",
   "language": "python",
   "name": "python3"
  },
  "language_info": {
   "codemirror_mode": {
    "name": "ipython",
    "version": 3
   },
   "file_extension": ".py",
   "mimetype": "text/x-python",
   "name": "python",
   "nbconvert_exporter": "python",
   "pygments_lexer": "ipython3",
   "version": "3.12.3"
  }
 },
 "nbformat": 4,
 "nbformat_minor": 2
}
