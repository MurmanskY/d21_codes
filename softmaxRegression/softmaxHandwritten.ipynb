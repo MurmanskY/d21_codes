{
 "cells": [
  {
   "cell_type": "code",
   "execution_count": null,
   "metadata": {},
   "outputs": [],
   "source": [
    "\"\"\"\n",
    "softmax，通常多输出，输出i是预测为第i类的可信度\n",
    "\n",
    "- 对类别进行一位有效编码（[1,0,0], [0,1,0], [0,0,1]）\n",
    "- 最大值最为预测\n",
    "\n",
    "不关心值大小，只关心相对大小 --> 输出概率（和为1） --> softmax函数\n",
    "交叉熵常用来衡量两个概率区别，用其作为损失\n",
    "\"\"\""
   ]
  },
  {
   "cell_type": "code",
   "execution_count": null,
   "metadata": {},
   "outputs": [],
   "source": []
  }
 ],
 "metadata": {
  "language_info": {
   "name": "python"
  }
 },
 "nbformat": 4,
 "nbformat_minor": 2
}
