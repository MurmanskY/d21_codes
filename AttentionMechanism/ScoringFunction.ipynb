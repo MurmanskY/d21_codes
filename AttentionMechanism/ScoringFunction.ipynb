{
 "cells": [
  {
   "cell_type": "markdown",
   "metadata": {},
   "source": [
    "# 注意力评分函数\n",
    "观察函数$\\sum_{i=1}^{n}\\text{softmax}(-\\frac{1}{2}(x-x_i)^2)y_i = \\sum_{i}\\alpha(x, x_i)y_i$\n",
    "\n",
    "其中\n",
    "- 注意力分数：$-\\frac{1}{2}(x-x_i)^2$。即softmax函数的自变量\n",
    "- 注意力权重：$\\alpha(x, x_i)$。即softmax函数的输出结果\n",
    "\n",
    "**文章关心注意力分数是如何设置的**\n",
    "\n",
    "query $\\bf{q} \\in \\mathbb{R}^q$，$m$对key-value $(\\bf{k}_1,\\bf{v}_1)$，其中$\\bf{k}_i \\in \\mathbb{R}^k$，$\\bf{v}_i \\in \\mathbb{R}^v$。（即维度可以完全不同）\n",
    "注意力池化层：\n"
   ]
  },
  {
   "cell_type": "code",
   "execution_count": 7,
   "metadata": {},
   "outputs": [],
   "source": [
    "import math\n",
    "import torch\n",
    "from torch import nn\n",
    "from d2l import torch as d2l"
   ]
  },
  {
   "cell_type": "markdown",
   "metadata": {},
   "source": [
    "## 1. 隐蔽softmax操作\n",
    "为了仅将有意义的词元作为值来获取注意力汇聚， 可以指定一个有效序列长度（即词元的个数）， 以便在计算softmax时过滤掉超出指定范围的位置。其中任何超出有效长度的位置都被掩蔽并置为0。"
   ]
  },
  {
   "cell_type": "code",
   "execution_count": 8,
   "metadata": {},
   "outputs": [],
   "source": [
    "#@save\n",
    "def masked_softmax(X, valid_lens):\n",
    "    \"\"\"通过在最后一个轴上掩蔽元素来执行softmax操作\"\"\"\n",
    "    # X:3D张量，valid_lens:1D或2D张量\n",
    "    if valid_lens is None:\n",
    "        return nn.functional.softmax(X, dim=-1)\n",
    "    else:\n",
    "        shape = X.shape\n",
    "        if valid_lens.dim() == 1:\n",
    "            valid_lens = torch.repeat_interleave(valid_lens, shape[1])\n",
    "        else:\n",
    "            valid_lens = valid_lens.reshape(-1)\n",
    "        # 最后一轴上被掩蔽的元素使用一个非常大的负值替换，从而其softmax输出为0\n",
    "        X = d2l.sequence_mask(X.reshape(-1, shape[-1]), valid_lens,\n",
    "                              value=-1e6)\n",
    "        return nn.functional.softmax(X.reshape(shape), dim=-1)"
   ]
  },
  {
   "cell_type": "code",
   "execution_count": 9,
   "metadata": {},
   "outputs": [
    {
     "data": {
      "text/plain": [
       "tensor([[[0.3903, 0.6097, 0.0000, 0.0000],\n",
       "         [0.3268, 0.6732, 0.0000, 0.0000]],\n",
       "\n",
       "        [[0.3807, 0.3787, 0.2406, 0.0000],\n",
       "         [0.3635, 0.3510, 0.2855, 0.0000]]])"
      ]
     },
     "execution_count": 9,
     "metadata": {},
     "output_type": "execute_result"
    }
   ],
   "source": [
    "masked_softmax(torch.rand(2, 2, 4), torch.tensor([2, 3]))"
   ]
  },
  {
   "cell_type": "code",
   "execution_count": 10,
   "metadata": {},
   "outputs": [
    {
     "data": {
      "text/plain": [
       "tensor([[[1.0000, 0.0000, 0.0000, 0.0000],\n",
       "         [0.2416, 0.4330, 0.3253, 0.0000]],\n",
       "\n",
       "        [[0.3259, 0.6741, 0.0000, 0.0000],\n",
       "         [0.2175, 0.3473, 0.2248, 0.2104]]])"
      ]
     },
     "execution_count": 10,
     "metadata": {},
     "output_type": "execute_result"
    }
   ],
   "source": [
    "masked_softmax(torch.rand(2, 2, 4), torch.tensor([[1, 3], [2, 4]]))"
   ]
  }
 ],
 "metadata": {
  "kernelspec": {
   "display_name": "d2l",
   "language": "python",
   "name": "python3"
  },
  "language_info": {
   "codemirror_mode": {
    "name": "ipython",
    "version": 3
   },
   "file_extension": ".py",
   "mimetype": "text/x-python",
   "name": "python",
   "nbconvert_exporter": "python",
   "pygments_lexer": "ipython3",
   "version": "3.12.3"
  }
 },
 "nbformat": 4,
 "nbformat_minor": 2
}
