{
 "cells": [
  {
   "cell_type": "markdown",
   "metadata": {},
   "source": [
    "# 批量规范化 BN\n",
    "\n",
    "加速深层网络收敛速度。结合7.6中的残差块，批量规范化使研究人员能够训练100层以上的网络\n",
    "\n",
    "## 1. 训练深层网络\n"
   ]
  }
 ],
 "metadata": {
  "language_info": {
   "name": "python"
  }
 },
 "nbformat": 4,
 "nbformat_minor": 2
}
