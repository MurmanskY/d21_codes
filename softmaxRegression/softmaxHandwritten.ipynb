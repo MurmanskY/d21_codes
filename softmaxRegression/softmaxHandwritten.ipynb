{
 "cells": [
  {
   "cell_type": "code",
   "execution_count": 7,
   "metadata": {},
   "outputs": [
    {
     "data": {
      "text/plain": [
       "'\\nsoftmax，通常多输出，输出i是预测为第i类的可信度\\n\\n- 对类别进行一位有效编码（[1,0,0], [0,1,0], [0,0,1]）\\n- 最大值最为预测\\n\\n不关心值大小，只关心相对大小 --> 输出概率（和为1） --> softmax函数\\n交叉熵常用来衡量两个概率区别，用其作为损失\\n'"
      ]
     },
     "execution_count": 7,
     "metadata": {},
     "output_type": "execute_result"
    }
   ],
   "source": [
    "\"\"\"\n",
    "softmax，通常多输出，输出i是预测为第i类的可信度\n",
    "\n",
    "- 对类别进行一位有效编码（[1,0,0], [0,1,0], [0,0,1]）\n",
    "- 最大值最为预测\n",
    "\n",
    "不关心值大小，只关心相对大小 --> 输出概率（和为1） --> softmax函数\n",
    "交叉熵常用来衡量两个概率区别，用其作为损失\n",
    "\"\"\"\n"
   ]
  },
  {
   "cell_type": "code",
   "execution_count": 8,
   "metadata": {},
   "outputs": [],
   "source": [
    "import torch\n",
    "from IPython import display\n",
    "from d2l import torch as d2l\n",
    "import numpy as np\n",
    "\n",
    "batch_size = 256\n",
    "train_iter, test_iter = d2l.load_data_fashion_mnist(batch_size)"
   ]
  },
  {
   "cell_type": "code",
   "execution_count": 9,
   "metadata": {},
   "outputs": [],
   "source": [
    "'''初始化模型参数\n",
    "展平图像：28 * 28 = 784（未考虑到空间特征）\n",
    "在softmax回归中，我们的输出与类别一样多。 因为我们的数据集有10个类别，所以网络输出维度为10。 因此，权重将构成一个\n",
    "784*10的矩阵， 偏置将构成一个1*10的行向量。 与线性回归一样，我们将使用正态分布初始化我们的权重W，偏置初始化为0\n",
    "'''\n",
    "num_inputs = 784\n",
    "num_outputs = 10\n",
    "\n",
    "W = torch.normal(0, 0.01, size=(num_inputs, num_outputs), requires_grad=True) # 注意与前面线性回归中做区别\n",
    "b = torch.zeros(num_outputs, requires_grad=True)"
   ]
  },
  {
   "cell_type": "code",
   "execution_count": 24,
   "metadata": {},
   "outputs": [
    {
     "data": {
      "text/plain": [
       "tensor([[0.0900, 0.2447, 0.6652]])"
      ]
     },
     "execution_count": 24,
     "metadata": {},
     "output_type": "execute_result"
    }
   ],
   "source": [
    "'''定义softmax操作\n",
    "'''\n",
    "def sotfmax(X):\n",
    "    X_exp = torch.exp(X)\n",
    "    partition = X_exp.sum(1, keepdim=True)\n",
    "    return X_exp / partition\n",
    "\n",
    "testX = torch.tensor([[1,2,3]])\n",
    "sotfmax(testX)"
   ]
  },
  {
   "cell_type": "code",
   "execution_count": 25,
   "metadata": {},
   "outputs": [],
   "source": [
    "'''定义模型\n",
    "'''\n",
    "def net(X):\n",
    "    return sotfmax(\n",
    "        torch.matmul(X.reshape(-1, W.shape[0]), W) + b\n",
    "    )"
   ]
  },
  {
   "cell_type": "code",
   "execution_count": 27,
   "metadata": {},
   "outputs": [
    {
     "ename": "RuntimeError",
     "evalue": "size mismatch, got input (2), mat (2x3), vec (2)",
     "output_type": "error",
     "traceback": [
      "\u001b[0;31m---------------------------------------------------------------------------\u001b[0m",
      "\u001b[0;31mRuntimeError\u001b[0m                              Traceback (most recent call last)",
      "Cell \u001b[0;32mIn[27], line 12\u001b[0m\n\u001b[1;32m      9\u001b[0m \u001b[38;5;28;01mdef\u001b[39;00m \u001b[38;5;21mcross_entropy\u001b[39m(y_hat, y):\n\u001b[1;32m     10\u001b[0m     \u001b[38;5;28;01mreturn\u001b[39;00m \u001b[38;5;241m-\u001b[39mtorch\u001b[38;5;241m.\u001b[39mmatmul(torch\u001b[38;5;241m.\u001b[39mlog(y_hat), y)\n\u001b[0;32m---> 12\u001b[0m cross_entropy(y_hat, y)\n",
      "Cell \u001b[0;32mIn[27], line 10\u001b[0m, in \u001b[0;36mcross_entropy\u001b[0;34m(y_hat, y)\u001b[0m\n\u001b[1;32m      9\u001b[0m \u001b[38;5;28;01mdef\u001b[39;00m \u001b[38;5;21mcross_entropy\u001b[39m(y_hat, y):\n\u001b[0;32m---> 10\u001b[0m     \u001b[38;5;28;01mreturn\u001b[39;00m \u001b[38;5;241m-\u001b[39mtorch\u001b[38;5;241m.\u001b[39mmatmul(torch\u001b[38;5;241m.\u001b[39mlog(y_hat), y)\n",
      "\u001b[0;31mRuntimeError\u001b[0m: size mismatch, got input (2), mat (2x3), vec (2)"
     ]
    }
   ],
   "source": [
    "'''定义损失函数\n",
    "交叉熵采用真实标签的预测概率的负对数似然\n",
    "'''\n",
    "\n",
    "def cross_entropy(y_hat, y):\n",
    "    return -torch.matmul(torch.log(y_hat), y)\n",
    "\n",
    "cross_entropy(y_hat, y)"
   ]
  },
  {
   "cell_type": "code",
   "execution_count": 28,
   "metadata": {},
   "outputs": [
    {
     "data": {
      "text/plain": [
       "tensor([0.1000, 0.5000])"
      ]
     },
     "execution_count": 28,
     "metadata": {},
     "output_type": "execute_result"
    }
   ],
   "source": [
    "y = torch.tensor([0, 2])\n",
    "y_hat = torch.tensor([[0.1, 0.3, 0.6], [0.3, 0.2, 0.5]])\n",
    "y_hat[[0, 1], y]"
   ]
  }
 ],
 "metadata": {
  "kernelspec": {
   "display_name": "d2l",
   "language": "python",
   "name": "python3"
  },
  "language_info": {
   "codemirror_mode": {
    "name": "ipython",
    "version": 3
   },
   "file_extension": ".py",
   "mimetype": "text/x-python",
   "name": "python",
   "nbconvert_exporter": "python",
   "pygments_lexer": "ipython3",
   "version": "3.12.3"
  }
 },
 "nbformat": 4,
 "nbformat_minor": 2
}
