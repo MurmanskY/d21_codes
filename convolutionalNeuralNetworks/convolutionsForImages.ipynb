{
 "cells": [
  {
   "cell_type": "markdown",
   "metadata": {},
   "source": [
    "# 图像卷积\n",
    "\n",
    "## 1. 互相关运算（cross-correlation）\n",
    "\n",
    "在卷积层中，输入张量和核张量通过互相关运算产生输出张量\n",
    "\n",
    "$$(n_h - k_h + 1) \\times (n_w - k_w + 1)$$\n",
    "\n",
    "我们可以通过在图像边界周围填充零来保证有足够的空间移动卷积核，从而保持输出大小不变。"
   ]
  },
  {
   "cell_type": "code",
   "execution_count": null,
   "metadata": {},
   "outputs": [],
   "source": [
    "import torch\n",
    "from torch import nn\n",
    "from d2l import torch as d2l\n",
    "\n",
    "def corr2d(X, K):\n",
    "    h, w = K.shape\n",
    "    Y = torch.zeros((X.shape[0] - h + 1, X.shape[1] - w + 1))\n",
    "    for i in range(Y.shape[0]):\n",
    "        for j in range(Y.shape[1]):\n",
    "            Y[i, j] = (X[i: i + h, ])"
   ]
  }
 ],
 "metadata": {
  "kernelspec": {
   "display_name": "d2l",
   "language": "python",
   "name": "python3"
  },
  "language_info": {
   "name": "python",
   "version": "3.1.-1"
  }
 },
 "nbformat": 4,
 "nbformat_minor": 2
}
