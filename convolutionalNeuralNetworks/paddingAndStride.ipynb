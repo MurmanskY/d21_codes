{
 "cells": [
  {
   "cell_type": "markdown",
   "metadata": {},
   "source": [
    "# 填充和步幅\n",
    "\n",
    "## 1. 填充（padding）\n",
    "\n",
    "由于通常使用小卷积核，因此对于单个卷积，可能只会丢失几个像素。但是应用许多连续卷积层，累积丢失的像素逐渐增多。解决方法即为padding。\n",
    "\n",
    "如果添加$p_h$行填充（一半在顶部，一半在底部），如果添加$p_w$列填充（一半在左部，一半在右部），输出的形状为：\n",
    "$$(n_h - k_h+ p_h + 1) \\times (n_w - k_w + p_w + 1)$$\n",
    "假如$k_h$是奇数，在高度两侧填充$p_h/2$行。假如$k_h$是偶数，在顶部填充$\\lceil p_h/2 \\rceil$, 在底部填充$\\lfloor p_h/2 \\rfloor$。\n",
    "\n",
    "卷积核通常为奇数，例如1、3、5、7。选择奇数保持空间维度的同时，在顶部和底部填充相同数量的行，在左侧核右侧填充相同数量的列\n",
    "\n",
    "**满足如下条件:**\n",
    "- 卷积核的大小是奇数\n",
    "- 所有边的填充行和列数相同\n",
    "- 输出和输入具有相同高度和宽度\n",
    "可以得到：输出Y[i, j]是通过输入X[i, j]为中心，与卷积核进行互相关计算得到的"
   ]
  },
  {
   "cell_type": "code",
   "execution_count": 2,
   "metadata": {},
   "outputs": [],
   "source": [
    "'''创建一个高度和宽度为3的二维卷积层\n",
    "所有侧边填充1个像素\n",
    "给定高度和宽度为8的输入，则输出的高度和宽度也是8\n",
    "'''\n",
    "import torch\n",
    "from torch import nn\n",
    "\n",
    "# 定义一个计算卷积层的函数\n",
    "# 此函数初始化卷积层权重，对输入和输出提高和缩减相应的维数\n",
    "def comp_conv2d(conv2d, X):\n",
    "    # 这里的(1, 1)表示批量大小和通道数都是1\n",
    "    X = X.reshape((1, 1) + X.shape)\n",
    "    Y = conv2d(X)\n",
    "    return Y.reshape(Y.shape[2:])"
   ]
  }
 ],
 "metadata": {
  "kernelspec": {
   "display_name": "d2l",
   "language": "python",
   "name": "python3"
  },
  "language_info": {
   "codemirror_mode": {
    "name": "ipython",
    "version": 3
   },
   "file_extension": ".py",
   "mimetype": "text/x-python",
   "name": "python",
   "nbconvert_exporter": "python",
   "pygments_lexer": "ipython3",
   "version": "3.12.3"
  }
 },
 "nbformat": 4,
 "nbformat_minor": 2
}
